{
 "cells": [
  {
   "cell_type": "code",
   "execution_count": 12,
   "id": "6290b04a-9d1d-456e-87db-71a34933cd1c",
   "metadata": {},
   "outputs": [],
   "source": [
    "import datetime\n",
    "import numpy as np\n",
    "import pandas as pd\n",
    "import jax.numpy as jnp\n",
    "import numpyro\n",
    "from lightweight_mmm import lightweight_mmm\n",
    "from lightweight_mmm import optimize_media\n",
    "from lightweight_mmm import plot\n",
    "from lightweight_mmm import preprocessing\n",
    "from lightweight_mmm import utils"
   ]
  },
  {
   "cell_type": "code",
   "execution_count": 5,
   "id": "6a4de46d-3305-40ac-a0c1-935cf767ae1f",
   "metadata": {},
   "outputs": [],
   "source": [
    "# suppress scientific notation by setting float_format\n",
    "pd.options.display.float_format = '{:.0f}'.format"
   ]
  },
  {
   "cell_type": "code",
   "execution_count": 6,
   "id": "714f182b-71ee-4ca4-b8f7-1dfad97db9d5",
   "metadata": {},
   "outputs": [
    {
     "data": {
      "text/html": [
       "<div>\n",
       "<style scoped>\n",
       "    .dataframe tbody tr th:only-of-type {\n",
       "        vertical-align: middle;\n",
       "    }\n",
       "\n",
       "    .dataframe tbody tr th {\n",
       "        vertical-align: top;\n",
       "    }\n",
       "\n",
       "    .dataframe thead th {\n",
       "        text-align: right;\n",
       "    }\n",
       "</style>\n",
       "<table border=\"1\" class=\"dataframe\">\n",
       "  <thead>\n",
       "    <tr style=\"text-align: right;\">\n",
       "      <th></th>\n",
       "      <th>Division</th>\n",
       "      <th>Calendar_Week</th>\n",
       "      <th>Paid_Views</th>\n",
       "      <th>Organic_Views</th>\n",
       "      <th>Google_Impressions</th>\n",
       "      <th>Email_Impressions</th>\n",
       "      <th>Facebook_Impressions</th>\n",
       "      <th>Affiliate_Impressions</th>\n",
       "      <th>Overall_Views</th>\n",
       "      <th>Sales</th>\n",
       "    </tr>\n",
       "  </thead>\n",
       "  <tbody>\n",
       "    <tr>\n",
       "      <th>0</th>\n",
       "      <td>A</td>\n",
       "      <td>1/6/2018</td>\n",
       "      <td>392</td>\n",
       "      <td>422</td>\n",
       "      <td>408</td>\n",
       "      <td>349895</td>\n",
       "      <td>73580</td>\n",
       "      <td>12072</td>\n",
       "      <td>682</td>\n",
       "      <td>59417</td>\n",
       "    </tr>\n",
       "    <tr>\n",
       "      <th>1</th>\n",
       "      <td>A</td>\n",
       "      <td>1/13/2018</td>\n",
       "      <td>787</td>\n",
       "      <td>904</td>\n",
       "      <td>110</td>\n",
       "      <td>506270</td>\n",
       "      <td>11804</td>\n",
       "      <td>9499</td>\n",
       "      <td>853</td>\n",
       "      <td>56806</td>\n",
       "    </tr>\n",
       "    <tr>\n",
       "      <th>2</th>\n",
       "      <td>A</td>\n",
       "      <td>1/20/2018</td>\n",
       "      <td>81</td>\n",
       "      <td>970</td>\n",
       "      <td>742</td>\n",
       "      <td>430042</td>\n",
       "      <td>52232</td>\n",
       "      <td>17048</td>\n",
       "      <td>759</td>\n",
       "      <td>48715</td>\n",
       "    </tr>\n",
       "    <tr>\n",
       "      <th>3</th>\n",
       "      <td>A</td>\n",
       "      <td>1/27/2018</td>\n",
       "      <td>25</td>\n",
       "      <td>575</td>\n",
       "      <td>65</td>\n",
       "      <td>417746</td>\n",
       "      <td>78640</td>\n",
       "      <td>10207</td>\n",
       "      <td>942</td>\n",
       "      <td>72047</td>\n",
       "    </tr>\n",
       "    <tr>\n",
       "      <th>4</th>\n",
       "      <td>A</td>\n",
       "      <td>2/3/2018</td>\n",
       "      <td>565</td>\n",
       "      <td>284</td>\n",
       "      <td>295</td>\n",
       "      <td>408506</td>\n",
       "      <td>40561</td>\n",
       "      <td>5834</td>\n",
       "      <td>658</td>\n",
       "      <td>56235</td>\n",
       "    </tr>\n",
       "  </tbody>\n",
       "</table>\n",
       "</div>"
      ],
      "text/plain": [
       "  Division Calendar_Week  Paid_Views  Organic_Views  Google_Impressions  \\\n",
       "0        A      1/6/2018         392            422                 408   \n",
       "1        A     1/13/2018         787            904                 110   \n",
       "2        A     1/20/2018          81            970                 742   \n",
       "3        A     1/27/2018          25            575                  65   \n",
       "4        A      2/3/2018         565            284                 295   \n",
       "\n",
       "   Email_Impressions  Facebook_Impressions  Affiliate_Impressions  \\\n",
       "0             349895                 73580                  12072   \n",
       "1             506270                 11804                   9499   \n",
       "2             430042                 52232                  17048   \n",
       "3             417746                 78640                  10207   \n",
       "4             408506                 40561                   5834   \n",
       "\n",
       "   Overall_Views  Sales  \n",
       "0            682  59417  \n",
       "1            853  56806  \n",
       "2            759  48715  \n",
       "3            942  72047  \n",
       "4            658  56235  "
      ]
     },
     "execution_count": 6,
     "metadata": {},
     "output_type": "execute_result"
    }
   ],
   "source": [
    "df = pd.read_csv('source/Sample Media Spend Data.csv')\n",
    "df.head()"
   ]
  },
  {
   "cell_type": "code",
   "execution_count": 7,
   "id": "d79284da-7bf0-46d7-a029-0502b61f09cc",
   "metadata": {},
   "outputs": [
    {
     "data": {
      "text/plain": [
       "Division                  object\n",
       "Calendar_Week             object\n",
       "Paid_Views                 int64\n",
       "Organic_Views              int64\n",
       "Google_Impressions         int64\n",
       "Email_Impressions        float64\n",
       "Facebook_Impressions       int64\n",
       "Affiliate_Impressions      int64\n",
       "Overall_Views              int64\n",
       "Sales                      int64\n",
       "dtype: object"
      ]
     },
     "execution_count": 7,
     "metadata": {},
     "output_type": "execute_result"
    }
   ],
   "source": [
    "df.dtypes"
   ]
  },
  {
   "cell_type": "code",
   "execution_count": 8,
   "id": "b264f089-5123-47f8-af74-4139a3913dc7",
   "metadata": {},
   "outputs": [],
   "source": [
    "df['Calendar_Week'] = pd.to_datetime(df['Calendar_Week'], format='%m/%d/%Y').dt.strftime('%Y-%m-%d')"
   ]
  },
  {
   "cell_type": "code",
   "execution_count": 9,
   "id": "ec0d138f-8b24-4500-b9c5-c8a5b37fa59b",
   "metadata": {},
   "outputs": [
    {
     "name": "stdout",
     "output_type": "stream",
     "text": [
      "3051 rows\n",
      "Unique divisions: ['A' 'B' 'C' 'D' 'E' 'F' 'G' 'H' 'I' 'J' 'K' 'L' 'M' 'N' 'O' 'P' 'Q' 'R'\n",
      " 'S' 'T' 'U' 'V' 'W' 'X' 'Y' 'Z']\n",
      "Minimum date week: 2018-01-06\n",
      "Maximum date week: 2020-02-29\n"
     ]
    }
   ],
   "source": [
    "print(f\"{len(df)} rows\")\n",
    "print(f\"Unique divisions: {np.unique(df['Division'])}\")\n",
    "print(f\"Minimum date week: {np.min(df['Calendar_Week'])}\")\n",
    "print(f\"Maximum date week: {np.max(df['Calendar_Week'])}\")"
   ]
  },
  {
   "cell_type": "code",
   "execution_count": 10,
   "id": "075e2a5d-0794-4039-8700-c9f16cccb55c",
   "metadata": {},
   "outputs": [
    {
     "data": {
      "text/html": [
       "<div>\n",
       "<style scoped>\n",
       "    .dataframe tbody tr th:only-of-type {\n",
       "        vertical-align: middle;\n",
       "    }\n",
       "\n",
       "    .dataframe tbody tr th {\n",
       "        vertical-align: top;\n",
       "    }\n",
       "\n",
       "    .dataframe thead th {\n",
       "        text-align: right;\n",
       "    }\n",
       "</style>\n",
       "<table border=\"1\" class=\"dataframe\">\n",
       "  <thead>\n",
       "    <tr style=\"text-align: right;\">\n",
       "      <th></th>\n",
       "      <th>Paid_Views</th>\n",
       "      <th>Organic_Views</th>\n",
       "      <th>Google_Impressions</th>\n",
       "      <th>Email_Impressions</th>\n",
       "      <th>Facebook_Impressions</th>\n",
       "      <th>Affiliate_Impressions</th>\n",
       "      <th>Overall_Views</th>\n",
       "      <th>Sales</th>\n",
       "    </tr>\n",
       "  </thead>\n",
       "  <tbody>\n",
       "    <tr>\n",
       "      <th>count</th>\n",
       "      <td>3051</td>\n",
       "      <td>3051</td>\n",
       "      <td>3051</td>\n",
       "      <td>3051</td>\n",
       "      <td>3051</td>\n",
       "      <td>3051</td>\n",
       "      <td>3051</td>\n",
       "      <td>3051</td>\n",
       "    </tr>\n",
       "    <tr>\n",
       "      <th>mean</th>\n",
       "      <td>15094</td>\n",
       "      <td>13356</td>\n",
       "      <td>886174</td>\n",
       "      <td>760509</td>\n",
       "      <td>269127</td>\n",
       "      <td>22911</td>\n",
       "      <td>27981</td>\n",
       "      <td>185901</td>\n",
       "    </tr>\n",
       "    <tr>\n",
       "      <th>std</th>\n",
       "      <td>30786</td>\n",
       "      <td>24079</td>\n",
       "      <td>1355076</td>\n",
       "      <td>626014</td>\n",
       "      <td>466512</td>\n",
       "      <td>21618</td>\n",
       "      <td>52055</td>\n",
       "      <td>232208</td>\n",
       "    </tr>\n",
       "    <tr>\n",
       "      <th>min</th>\n",
       "      <td>1</td>\n",
       "      <td>1</td>\n",
       "      <td>7</td>\n",
       "      <td>40894</td>\n",
       "      <td>29</td>\n",
       "      <td>910</td>\n",
       "      <td>2</td>\n",
       "      <td>15436</td>\n",
       "    </tr>\n",
       "    <tr>\n",
       "      <th>25%</th>\n",
       "      <td>537</td>\n",
       "      <td>712</td>\n",
       "      <td>169828</td>\n",
       "      <td>378497</td>\n",
       "      <td>57074</td>\n",
       "      <td>9127</td>\n",
       "      <td>747</td>\n",
       "      <td>73394</td>\n",
       "    </tr>\n",
       "    <tr>\n",
       "      <th>50%</th>\n",
       "      <td>2699</td>\n",
       "      <td>4110</td>\n",
       "      <td>490531</td>\n",
       "      <td>590971</td>\n",
       "      <td>127523</td>\n",
       "      <td>16658</td>\n",
       "      <td>7879</td>\n",
       "      <td>113573</td>\n",
       "    </tr>\n",
       "    <tr>\n",
       "      <th>75%</th>\n",
       "      <td>17358</td>\n",
       "      <td>16230</td>\n",
       "      <td>1022622</td>\n",
       "      <td>962247</td>\n",
       "      <td>283505</td>\n",
       "      <td>27486</td>\n",
       "      <td>34112</td>\n",
       "      <td>202976</td>\n",
       "    </tr>\n",
       "    <tr>\n",
       "      <th>max</th>\n",
       "      <td>518190</td>\n",
       "      <td>270453</td>\n",
       "      <td>17150439</td>\n",
       "      <td>7317730</td>\n",
       "      <td>7558435</td>\n",
       "      <td>175791</td>\n",
       "      <td>635057</td>\n",
       "      <td>3575430</td>\n",
       "    </tr>\n",
       "  </tbody>\n",
       "</table>\n",
       "</div>"
      ],
      "text/plain": [
       "       Paid_Views  Organic_Views  Google_Impressions  Email_Impressions  \\\n",
       "count        3051           3051                3051               3051   \n",
       "mean        15094          13356              886174             760509   \n",
       "std         30786          24079             1355076             626014   \n",
       "min             1              1                   7              40894   \n",
       "25%           537            712              169828             378497   \n",
       "50%          2699           4110              490531             590971   \n",
       "75%         17358          16230             1022622             962247   \n",
       "max        518190         270453            17150439            7317730   \n",
       "\n",
       "       Facebook_Impressions  Affiliate_Impressions  Overall_Views   Sales  \n",
       "count                  3051                   3051           3051    3051  \n",
       "mean                 269127                  22911          27981  185901  \n",
       "std                  466512                  21618          52055  232208  \n",
       "min                      29                    910              2   15436  \n",
       "25%                   57074                   9127            747   73394  \n",
       "50%                  127523                  16658           7879  113573  \n",
       "75%                  283505                  27486          34112  202976  \n",
       "max                 7558435                 175791         635057 3575430  "
      ]
     },
     "execution_count": 10,
     "metadata": {},
     "output_type": "execute_result"
    }
   ],
   "source": [
    "df.describe()"
   ]
  },
  {
   "cell_type": "code",
   "execution_count": 11,
   "id": "31cb7a66-9de1-47d9-ba6d-24cb350d511b",
   "metadata": {},
   "outputs": [],
   "source": [
    "## Data Interpretation Simulation\n",
    "# Costs columns: paid views, google impressions, facebook impressions and affiliate impressions (in $)\n",
    "# Count columns: organic views and email impressions\n",
    "# Response variable: Sales (in $)"
   ]
  },
  {
   "cell_type": "code",
   "execution_count": 31,
   "id": "644c52fb-ea4c-4628-b2af-a39c3f65a632",
   "metadata": {},
   "outputs": [],
   "source": [
    "data_size = len(df)\n",
    "split_point = data_size - 13\n",
    "\n",
    "# Media data\n",
    "media_data = df[['Paid_Views', 'Google_Impressions', 'Facebook_Impressions', 'Affiliate_Impressions']].to_numpy()\n",
    "media_data_train = media_data[:split_point, ...]\n",
    "media_data_test = media_data[split_point:, ...]\n",
    "\n",
    "# Extra features\n",
    "extra_features = df[['Organic_Views', 'Email_Impressions']].to_numpy()\n",
    "extra_features_train = extra_features[:split_point, ...]\n",
    "extra_features_test = extra_features[split_point:, ...]\n",
    "\n",
    "# Target \n",
    "target = df['Sales'].to_numpy()\n",
    "target_train = target[:split_point, ...]\n",
    "target_test = target[split_point:, ...]\n",
    "\n",
    "# Costs (media prior: mandatory)\n",
    "# costs shouldn't be 0 or negative for the fit() method\n",
    "# More generally though, media channels in an MMM should usually have non-zero costs, \n",
    "# especially if you want to compute ROIs later in the process and perform channel optimization.\n",
    "costs = df[['Paid_Views', 'Google_Impressions', 'Facebook_Impressions', 'Affiliate_Impressions']].sum().to_numpy()"
   ]
  },
  {
   "cell_type": "code",
   "execution_count": 29,
   "id": "eb093217-99b3-4d46-848a-108cf126ca13",
   "metadata": {},
   "outputs": [],
   "source": [
    "media_scaler = preprocessing.CustomScaler(divide_operation=jnp.mean)\n",
    "extra_features_scaler = preprocessing.CustomScaler(divide_operation=jnp.mean)\n",
    "target_scaler = preprocessing.CustomScaler(divide_operation=jnp.mean)\n",
    "cost_scaler = preprocessing.CustomScaler(divide_operation=jnp.mean)\n",
    "\n",
    "media_data_train = media_scaler.fit_transform(media_data_train)\n",
    "extra_features_train = extra_features_scaler.fit_transform(extra_features_train)\n",
    "target_train = target_scaler.fit_transform(target_train)\n",
    "costs = cost_scaler.fit_transform(costs)"
   ]
  },
  {
   "cell_type": "code",
   "execution_count": 19,
   "id": "971187e9-8584-40cc-bdc7-29482f356314",
   "metadata": {},
   "outputs": [],
   "source": [
    "# Adstock: Applies an infinite lag that decreases its weight as time passes.    \n",
    "# Hill-Adstock: Applies a sigmoid like function for diminishing returns to the output of the adstock function.    \n",
    "# Carryover: Applies a causal convolution giving more weight to the near values than distant ones.   "
   ]
  },
  {
   "cell_type": "code",
   "execution_count": 20,
   "id": "20996fe7-5c83-438a-836b-219e1f68f08a",
   "metadata": {},
   "outputs": [],
   "source": [
    "seed = 42"
   ]
  },
  {
   "cell_type": "code",
   "execution_count": 22,
   "id": "29021fd2-8c0f-4b74-b256-1bf5683b3ada",
   "metadata": {},
   "outputs": [
    {
     "name": "stderr",
     "output_type": "stream",
     "text": [
      "C:\\Users\\Agatho\\workspace\\media-mix-modeling\\env\\lib\\site-packages\\lightweight_mmm\\lightweight_mmm.py:358: UserWarning: There are not enough devices to run parallel chains: expected 2 but got 1. Chains will be drawn sequentially. If you are running MCMC in CPU, consider using `numpyro.set_host_device_count(2)` at the beginning of your program. You can double-check how many devices are available in your system using `jax.local_device_count()`.\n",
      "  mcmc = numpyro.infer.MCMC(\n"
     ]
    },
    {
     "ename": "ValueError",
     "evalue": "Normal distribution got invalid scale parameter.",
     "output_type": "error",
     "traceback": [
      "\u001b[1;31m---------------------------------------------------------------------------\u001b[0m",
      "\u001b[1;31mValueError\u001b[0m                                Traceback (most recent call last)",
      "Cell \u001b[1;32mIn[22], line 2\u001b[0m\n\u001b[0;32m      1\u001b[0m mmm_adstock \u001b[38;5;241m=\u001b[39m lightweight_mmm\u001b[38;5;241m.\u001b[39mLightweightMMM(model_name \u001b[38;5;241m=\u001b[39m\u001b[38;5;124m\"\u001b[39m\u001b[38;5;124madstock\u001b[39m\u001b[38;5;124m\"\u001b[39m)\n\u001b[1;32m----> 2\u001b[0m \u001b[43mmmm_adstock\u001b[49m\u001b[38;5;241;43m.\u001b[39;49m\u001b[43mfit\u001b[49m\u001b[43m(\u001b[49m\u001b[43mmedia\u001b[49m\u001b[38;5;241;43m=\u001b[39;49m\u001b[43mmedia_data_train\u001b[49m\u001b[43m,\u001b[49m\u001b[43m \u001b[49m\n\u001b[0;32m      3\u001b[0m \u001b[43m                \u001b[49m\u001b[43mmedia_prior\u001b[49m\u001b[38;5;241;43m=\u001b[39;49m\u001b[43mcosts\u001b[49m\u001b[43m,\u001b[49m\u001b[43m \u001b[49m\n\u001b[0;32m      4\u001b[0m \u001b[43m                \u001b[49m\u001b[43mtarget\u001b[49m\u001b[38;5;241;43m=\u001b[39;49m\u001b[43mtarget_train\u001b[49m\u001b[43m,\u001b[49m\u001b[43m \u001b[49m\n\u001b[0;32m      5\u001b[0m \u001b[43m                \u001b[49m\u001b[43mextra_features\u001b[49m\u001b[38;5;241;43m=\u001b[39;49m\u001b[43mextra_features_train\u001b[49m\u001b[43m,\u001b[49m\u001b[43m \u001b[49m\n\u001b[0;32m      6\u001b[0m \u001b[43m                \u001b[49m\u001b[43mmedia_names\u001b[49m\u001b[38;5;241;43m=\u001b[39;49m\u001b[43m[\u001b[49m\u001b[38;5;124;43m'\u001b[39;49m\u001b[38;5;124;43mPaid_Views\u001b[39;49m\u001b[38;5;124;43m'\u001b[39;49m\u001b[43m,\u001b[49m\u001b[43m \u001b[49m\u001b[38;5;124;43m'\u001b[39;49m\u001b[38;5;124;43mGoogle_Impressions\u001b[39;49m\u001b[38;5;124;43m'\u001b[39;49m\u001b[43m,\u001b[49m\u001b[43m \u001b[49m\u001b[38;5;124;43m'\u001b[39;49m\u001b[38;5;124;43mFacebook_Impressions\u001b[39;49m\u001b[38;5;124;43m'\u001b[39;49m\u001b[43m,\u001b[49m\u001b[43m \u001b[49m\u001b[38;5;124;43m'\u001b[39;49m\u001b[38;5;124;43mAffiliate_Impressions\u001b[39;49m\u001b[38;5;124;43m'\u001b[39;49m\u001b[43m]\u001b[49m\u001b[43m,\u001b[49m\n\u001b[0;32m      7\u001b[0m \u001b[43m                \u001b[49m\u001b[43mseed\u001b[49m\u001b[38;5;241;43m=\u001b[39;49m\u001b[43mseed\u001b[49m\u001b[43m)\u001b[49m\n",
      "File \u001b[1;32m~\\workspace\\media-mix-modeling\\env\\lib\\site-packages\\lightweight_mmm\\lightweight_mmm.py:363\u001b[0m, in \u001b[0;36mLightweightMMM.fit\u001b[1;34m(self, media, media_prior, target, extra_features, degrees_seasonality, seasonality_frequency, weekday_seasonality, media_names, number_warmup, number_samples, number_chains, target_accept_prob, init_strategy, custom_priors, seed)\u001b[0m\n\u001b[0;32m    353\u001b[0m kernel \u001b[38;5;241m=\u001b[39m numpyro\u001b[38;5;241m.\u001b[39minfer\u001b[38;5;241m.\u001b[39mNUTS(\n\u001b[0;32m    354\u001b[0m     model\u001b[38;5;241m=\u001b[39m\u001b[38;5;28mself\u001b[39m\u001b[38;5;241m.\u001b[39m_model_function,\n\u001b[0;32m    355\u001b[0m     target_accept_prob\u001b[38;5;241m=\u001b[39mtarget_accept_prob,\n\u001b[0;32m    356\u001b[0m     init_strategy\u001b[38;5;241m=\u001b[39minit_strategy)\n\u001b[0;32m    358\u001b[0m mcmc \u001b[38;5;241m=\u001b[39m numpyro\u001b[38;5;241m.\u001b[39minfer\u001b[38;5;241m.\u001b[39mMCMC(\n\u001b[0;32m    359\u001b[0m     sampler\u001b[38;5;241m=\u001b[39mkernel,\n\u001b[0;32m    360\u001b[0m     num_warmup\u001b[38;5;241m=\u001b[39mnumber_warmup,\n\u001b[0;32m    361\u001b[0m     num_samples\u001b[38;5;241m=\u001b[39mnumber_samples,\n\u001b[0;32m    362\u001b[0m     num_chains\u001b[38;5;241m=\u001b[39mnumber_chains)\n\u001b[1;32m--> 363\u001b[0m \u001b[43mmcmc\u001b[49m\u001b[38;5;241;43m.\u001b[39;49m\u001b[43mrun\u001b[49m\u001b[43m(\u001b[49m\n\u001b[0;32m    364\u001b[0m \u001b[43m    \u001b[49m\u001b[43mrng_key\u001b[49m\u001b[38;5;241;43m=\u001b[39;49m\u001b[43mjax\u001b[49m\u001b[38;5;241;43m.\u001b[39;49m\u001b[43mrandom\u001b[49m\u001b[38;5;241;43m.\u001b[39;49m\u001b[43mPRNGKey\u001b[49m\u001b[43m(\u001b[49m\u001b[43mseed\u001b[49m\u001b[43m)\u001b[49m\u001b[43m,\u001b[49m\n\u001b[0;32m    365\u001b[0m \u001b[43m    \u001b[49m\u001b[43mmedia_data\u001b[49m\u001b[38;5;241;43m=\u001b[39;49m\u001b[43mjnp\u001b[49m\u001b[38;5;241;43m.\u001b[39;49m\u001b[43marray\u001b[49m\u001b[43m(\u001b[49m\u001b[43mmedia\u001b[49m\u001b[43m)\u001b[49m\u001b[43m,\u001b[49m\n\u001b[0;32m    366\u001b[0m \u001b[43m    \u001b[49m\u001b[43mextra_features\u001b[49m\u001b[38;5;241;43m=\u001b[39;49m\u001b[43mextra_features\u001b[49m\u001b[43m,\u001b[49m\n\u001b[0;32m    367\u001b[0m \u001b[43m    \u001b[49m\u001b[43mtarget_data\u001b[49m\u001b[38;5;241;43m=\u001b[39;49m\u001b[43mjnp\u001b[49m\u001b[38;5;241;43m.\u001b[39;49m\u001b[43marray\u001b[49m\u001b[43m(\u001b[49m\u001b[43mtarget\u001b[49m\u001b[43m)\u001b[49m\u001b[43m,\u001b[49m\n\u001b[0;32m    368\u001b[0m \u001b[43m    \u001b[49m\u001b[43mmedia_prior\u001b[49m\u001b[38;5;241;43m=\u001b[39;49m\u001b[43mjnp\u001b[49m\u001b[38;5;241;43m.\u001b[39;49m\u001b[43marray\u001b[49m\u001b[43m(\u001b[49m\u001b[43mmedia_prior\u001b[49m\u001b[43m)\u001b[49m\u001b[43m,\u001b[49m\n\u001b[0;32m    369\u001b[0m \u001b[43m    \u001b[49m\u001b[43mdegrees_seasonality\u001b[49m\u001b[38;5;241;43m=\u001b[39;49m\u001b[43mdegrees_seasonality\u001b[49m\u001b[43m,\u001b[49m\n\u001b[0;32m    370\u001b[0m \u001b[43m    \u001b[49m\u001b[43mfrequency\u001b[49m\u001b[38;5;241;43m=\u001b[39;49m\u001b[43mseasonality_frequency\u001b[49m\u001b[43m,\u001b[49m\n\u001b[0;32m    371\u001b[0m \u001b[43m    \u001b[49m\u001b[43mtransform_function\u001b[49m\u001b[38;5;241;43m=\u001b[39;49m\u001b[38;5;28;43mself\u001b[39;49m\u001b[38;5;241;43m.\u001b[39;49m\u001b[43m_model_transform_function\u001b[49m\u001b[43m,\u001b[49m\n\u001b[0;32m    372\u001b[0m \u001b[43m    \u001b[49m\u001b[43mweekday_seasonality\u001b[49m\u001b[38;5;241;43m=\u001b[39;49m\u001b[43mweekday_seasonality\u001b[49m\u001b[43m,\u001b[49m\n\u001b[0;32m    373\u001b[0m \u001b[43m    \u001b[49m\u001b[43mcustom_priors\u001b[49m\u001b[38;5;241;43m=\u001b[39;49m\u001b[43mcustom_priors\u001b[49m\u001b[43m)\u001b[49m\n\u001b[0;32m    375\u001b[0m \u001b[38;5;28mself\u001b[39m\u001b[38;5;241m.\u001b[39mcustom_priors \u001b[38;5;241m=\u001b[39m custom_priors\n\u001b[0;32m    376\u001b[0m \u001b[38;5;28;01mif\u001b[39;00m media_names \u001b[38;5;129;01mis\u001b[39;00m \u001b[38;5;129;01mnot\u001b[39;00m \u001b[38;5;28;01mNone\u001b[39;00m:\n",
      "File \u001b[1;32m~\\workspace\\media-mix-modeling\\env\\lib\\site-packages\\numpyro\\infer\\mcmc.py:638\u001b[0m, in \u001b[0;36mMCMC.run\u001b[1;34m(self, rng_key, extra_fields, init_params, *args, **kwargs)\u001b[0m\n\u001b[0;32m    636\u001b[0m \u001b[38;5;28;01melse\u001b[39;00m:\n\u001b[0;32m    637\u001b[0m     \u001b[38;5;28;01mif\u001b[39;00m \u001b[38;5;28mself\u001b[39m\u001b[38;5;241m.\u001b[39mchain_method \u001b[38;5;241m==\u001b[39m \u001b[38;5;124m\"\u001b[39m\u001b[38;5;124msequential\u001b[39m\u001b[38;5;124m\"\u001b[39m:\n\u001b[1;32m--> 638\u001b[0m         states, last_state \u001b[38;5;241m=\u001b[39m \u001b[43m_laxmap\u001b[49m\u001b[43m(\u001b[49m\u001b[43mpartial_map_fn\u001b[49m\u001b[43m,\u001b[49m\u001b[43m \u001b[49m\u001b[43mmap_args\u001b[49m\u001b[43m)\u001b[49m\n\u001b[0;32m    639\u001b[0m     \u001b[38;5;28;01melif\u001b[39;00m \u001b[38;5;28mself\u001b[39m\u001b[38;5;241m.\u001b[39mchain_method \u001b[38;5;241m==\u001b[39m \u001b[38;5;124m\"\u001b[39m\u001b[38;5;124mparallel\u001b[39m\u001b[38;5;124m\"\u001b[39m:\n\u001b[0;32m    640\u001b[0m         states, last_state \u001b[38;5;241m=\u001b[39m pmap(partial_map_fn)(map_args)\n",
      "File \u001b[1;32m~\\workspace\\media-mix-modeling\\env\\lib\\site-packages\\numpyro\\infer\\mcmc.py:166\u001b[0m, in \u001b[0;36m_laxmap\u001b[1;34m(f, xs)\u001b[0m\n\u001b[0;32m    164\u001b[0m \u001b[38;5;28;01mfor\u001b[39;00m i \u001b[38;5;129;01min\u001b[39;00m \u001b[38;5;28mrange\u001b[39m(n):\n\u001b[0;32m    165\u001b[0m     x \u001b[38;5;241m=\u001b[39m jit(_get_value_from_index)(xs, i)\n\u001b[1;32m--> 166\u001b[0m     ys\u001b[38;5;241m.\u001b[39mappend(\u001b[43mf\u001b[49m\u001b[43m(\u001b[49m\u001b[43mx\u001b[49m\u001b[43m)\u001b[49m)\n\u001b[0;32m    168\u001b[0m \u001b[38;5;28;01mreturn\u001b[39;00m tree_map(\u001b[38;5;28;01mlambda\u001b[39;00m \u001b[38;5;241m*\u001b[39margs: jnp\u001b[38;5;241m.\u001b[39mstack(args), \u001b[38;5;241m*\u001b[39mys)\n",
      "File \u001b[1;32m~\\workspace\\media-mix-modeling\\env\\lib\\site-packages\\numpyro\\infer\\mcmc.py:416\u001b[0m, in \u001b[0;36mMCMC._single_chain_mcmc\u001b[1;34m(self, init, args, kwargs, collect_fields)\u001b[0m\n\u001b[0;32m    414\u001b[0m \u001b[38;5;66;03m# Check if _sample_fn is None, then we need to initialize the sampler.\u001b[39;00m\n\u001b[0;32m    415\u001b[0m \u001b[38;5;28;01mif\u001b[39;00m init_state \u001b[38;5;129;01mis\u001b[39;00m \u001b[38;5;28;01mNone\u001b[39;00m \u001b[38;5;129;01mor\u001b[39;00m (\u001b[38;5;28mgetattr\u001b[39m(\u001b[38;5;28mself\u001b[39m\u001b[38;5;241m.\u001b[39msampler, \u001b[38;5;124m\"\u001b[39m\u001b[38;5;124m_sample_fn\u001b[39m\u001b[38;5;124m\"\u001b[39m, \u001b[38;5;28;01mNone\u001b[39;00m) \u001b[38;5;129;01mis\u001b[39;00m \u001b[38;5;28;01mNone\u001b[39;00m):\n\u001b[1;32m--> 416\u001b[0m     new_init_state \u001b[38;5;241m=\u001b[39m \u001b[38;5;28;43mself\u001b[39;49m\u001b[38;5;241;43m.\u001b[39;49m\u001b[43msampler\u001b[49m\u001b[38;5;241;43m.\u001b[39;49m\u001b[43minit\u001b[49m\u001b[43m(\u001b[49m\n\u001b[0;32m    417\u001b[0m \u001b[43m        \u001b[49m\u001b[43mrng_key\u001b[49m\u001b[43m,\u001b[49m\n\u001b[0;32m    418\u001b[0m \u001b[43m        \u001b[49m\u001b[38;5;28;43mself\u001b[39;49m\u001b[38;5;241;43m.\u001b[39;49m\u001b[43mnum_warmup\u001b[49m\u001b[43m,\u001b[49m\n\u001b[0;32m    419\u001b[0m \u001b[43m        \u001b[49m\u001b[43minit_params\u001b[49m\u001b[43m,\u001b[49m\n\u001b[0;32m    420\u001b[0m \u001b[43m        \u001b[49m\u001b[43mmodel_args\u001b[49m\u001b[38;5;241;43m=\u001b[39;49m\u001b[43margs\u001b[49m\u001b[43m,\u001b[49m\n\u001b[0;32m    421\u001b[0m \u001b[43m        \u001b[49m\u001b[43mmodel_kwargs\u001b[49m\u001b[38;5;241;43m=\u001b[39;49m\u001b[43mkwargs\u001b[49m\u001b[43m,\u001b[49m\n\u001b[0;32m    422\u001b[0m \u001b[43m    \u001b[49m\u001b[43m)\u001b[49m\n\u001b[0;32m    423\u001b[0m     init_state \u001b[38;5;241m=\u001b[39m new_init_state \u001b[38;5;28;01mif\u001b[39;00m init_state \u001b[38;5;129;01mis\u001b[39;00m \u001b[38;5;28;01mNone\u001b[39;00m \u001b[38;5;28;01melse\u001b[39;00m init_state\n\u001b[0;32m    424\u001b[0m sample_fn, postprocess_fn \u001b[38;5;241m=\u001b[39m \u001b[38;5;28mself\u001b[39m\u001b[38;5;241m.\u001b[39m_get_cached_fns()\n",
      "File \u001b[1;32m~\\workspace\\media-mix-modeling\\env\\lib\\site-packages\\numpyro\\infer\\hmc.py:713\u001b[0m, in \u001b[0;36mHMC.init\u001b[1;34m(self, rng_key, num_warmup, init_params, model_args, model_kwargs)\u001b[0m\n\u001b[0;32m    708\u001b[0m \u001b[38;5;66;03m# vectorized\u001b[39;00m\n\u001b[0;32m    709\u001b[0m \u001b[38;5;28;01melse\u001b[39;00m:\n\u001b[0;32m    710\u001b[0m     rng_key, rng_key_init_model \u001b[38;5;241m=\u001b[39m jnp\u001b[38;5;241m.\u001b[39mswapaxes(\n\u001b[0;32m    711\u001b[0m         vmap(random\u001b[38;5;241m.\u001b[39msplit)(rng_key), \u001b[38;5;241m0\u001b[39m, \u001b[38;5;241m1\u001b[39m\n\u001b[0;32m    712\u001b[0m     )\n\u001b[1;32m--> 713\u001b[0m init_params \u001b[38;5;241m=\u001b[39m \u001b[38;5;28;43mself\u001b[39;49m\u001b[38;5;241;43m.\u001b[39;49m\u001b[43m_init_state\u001b[49m\u001b[43m(\u001b[49m\n\u001b[0;32m    714\u001b[0m \u001b[43m    \u001b[49m\u001b[43mrng_key_init_model\u001b[49m\u001b[43m,\u001b[49m\u001b[43m \u001b[49m\u001b[43mmodel_args\u001b[49m\u001b[43m,\u001b[49m\u001b[43m \u001b[49m\u001b[43mmodel_kwargs\u001b[49m\u001b[43m,\u001b[49m\u001b[43m \u001b[49m\u001b[43minit_params\u001b[49m\n\u001b[0;32m    715\u001b[0m \u001b[43m\u001b[49m\u001b[43m)\u001b[49m\n\u001b[0;32m    716\u001b[0m \u001b[38;5;28;01mif\u001b[39;00m \u001b[38;5;28mself\u001b[39m\u001b[38;5;241m.\u001b[39m_potential_fn \u001b[38;5;129;01mand\u001b[39;00m init_params \u001b[38;5;129;01mis\u001b[39;00m \u001b[38;5;28;01mNone\u001b[39;00m:\n\u001b[0;32m    717\u001b[0m     \u001b[38;5;28;01mraise\u001b[39;00m \u001b[38;5;167;01mValueError\u001b[39;00m(\n\u001b[0;32m    718\u001b[0m         \u001b[38;5;124m\"\u001b[39m\u001b[38;5;124mValid value of `init_params` must be provided with\u001b[39m\u001b[38;5;124m\"\u001b[39m \u001b[38;5;124m\"\u001b[39m\u001b[38;5;124m `potential_fn`.\u001b[39m\u001b[38;5;124m\"\u001b[39m\n\u001b[0;32m    719\u001b[0m     )\n",
      "File \u001b[1;32m~\\workspace\\media-mix-modeling\\env\\lib\\site-packages\\numpyro\\infer\\hmc.py:657\u001b[0m, in \u001b[0;36mHMC._init_state\u001b[1;34m(self, rng_key, model_args, model_kwargs, init_params)\u001b[0m\n\u001b[0;32m    650\u001b[0m \u001b[38;5;28;01mdef\u001b[39;00m \u001b[38;5;21m_init_state\u001b[39m(\u001b[38;5;28mself\u001b[39m, rng_key, model_args, model_kwargs, init_params):\n\u001b[0;32m    651\u001b[0m     \u001b[38;5;28;01mif\u001b[39;00m \u001b[38;5;28mself\u001b[39m\u001b[38;5;241m.\u001b[39m_model \u001b[38;5;129;01mis\u001b[39;00m \u001b[38;5;129;01mnot\u001b[39;00m \u001b[38;5;28;01mNone\u001b[39;00m:\n\u001b[0;32m    652\u001b[0m         (\n\u001b[0;32m    653\u001b[0m             new_init_params,\n\u001b[0;32m    654\u001b[0m             potential_fn,\n\u001b[0;32m    655\u001b[0m             postprocess_fn,\n\u001b[0;32m    656\u001b[0m             model_trace,\n\u001b[1;32m--> 657\u001b[0m         ) \u001b[38;5;241m=\u001b[39m \u001b[43minitialize_model\u001b[49m\u001b[43m(\u001b[49m\n\u001b[0;32m    658\u001b[0m \u001b[43m            \u001b[49m\u001b[43mrng_key\u001b[49m\u001b[43m,\u001b[49m\n\u001b[0;32m    659\u001b[0m \u001b[43m            \u001b[49m\u001b[38;5;28;43mself\u001b[39;49m\u001b[38;5;241;43m.\u001b[39;49m\u001b[43m_model\u001b[49m\u001b[43m,\u001b[49m\n\u001b[0;32m    660\u001b[0m \u001b[43m            \u001b[49m\u001b[43mdynamic_args\u001b[49m\u001b[38;5;241;43m=\u001b[39;49m\u001b[38;5;28;43;01mTrue\u001b[39;49;00m\u001b[43m,\u001b[49m\n\u001b[0;32m    661\u001b[0m \u001b[43m            \u001b[49m\u001b[43minit_strategy\u001b[49m\u001b[38;5;241;43m=\u001b[39;49m\u001b[38;5;28;43mself\u001b[39;49m\u001b[38;5;241;43m.\u001b[39;49m\u001b[43m_init_strategy\u001b[49m\u001b[43m,\u001b[49m\n\u001b[0;32m    662\u001b[0m \u001b[43m            \u001b[49m\u001b[43mmodel_args\u001b[49m\u001b[38;5;241;43m=\u001b[39;49m\u001b[43mmodel_args\u001b[49m\u001b[43m,\u001b[49m\n\u001b[0;32m    663\u001b[0m \u001b[43m            \u001b[49m\u001b[43mmodel_kwargs\u001b[49m\u001b[38;5;241;43m=\u001b[39;49m\u001b[43mmodel_kwargs\u001b[49m\u001b[43m,\u001b[49m\n\u001b[0;32m    664\u001b[0m \u001b[43m            \u001b[49m\u001b[43mforward_mode_differentiation\u001b[49m\u001b[38;5;241;43m=\u001b[39;49m\u001b[38;5;28;43mself\u001b[39;49m\u001b[38;5;241;43m.\u001b[39;49m\u001b[43m_forward_mode_differentiation\u001b[49m\u001b[43m,\u001b[49m\n\u001b[0;32m    665\u001b[0m \u001b[43m        \u001b[49m\u001b[43m)\u001b[49m\n\u001b[0;32m    666\u001b[0m         \u001b[38;5;28;01mif\u001b[39;00m init_params \u001b[38;5;129;01mis\u001b[39;00m \u001b[38;5;28;01mNone\u001b[39;00m:\n\u001b[0;32m    667\u001b[0m             init_params \u001b[38;5;241m=\u001b[39m new_init_params\n",
      "File \u001b[1;32m~\\workspace\\media-mix-modeling\\env\\lib\\site-packages\\numpyro\\infer\\util.py:726\u001b[0m, in \u001b[0;36minitialize_model\u001b[1;34m(rng_key, model, init_strategy, dynamic_args, model_args, model_kwargs, forward_mode_differentiation, validate_grad)\u001b[0m\n\u001b[0;32m    723\u001b[0m \u001b[38;5;28;01mif\u001b[39;00m device_get(\u001b[38;5;241m~\u001b[39mjnp\u001b[38;5;241m.\u001b[39mall(is_valid)):\n\u001b[0;32m    724\u001b[0m     \u001b[38;5;28;01mwith\u001b[39;00m numpyro\u001b[38;5;241m.\u001b[39mvalidation_enabled(), trace() \u001b[38;5;28;01mas\u001b[39;00m tr:\n\u001b[0;32m    725\u001b[0m         \u001b[38;5;66;03m# validate parameters\u001b[39;00m\n\u001b[1;32m--> 726\u001b[0m         substituted_model(\u001b[38;5;241m*\u001b[39mmodel_args, \u001b[38;5;241m*\u001b[39m\u001b[38;5;241m*\u001b[39mmodel_kwargs)\n\u001b[0;32m    727\u001b[0m         \u001b[38;5;66;03m# validate values\u001b[39;00m\n\u001b[0;32m    728\u001b[0m         \u001b[38;5;28;01mfor\u001b[39;00m site \u001b[38;5;129;01min\u001b[39;00m tr\u001b[38;5;241m.\u001b[39mvalues():\n",
      "File \u001b[1;32m~\\workspace\\media-mix-modeling\\env\\lib\\site-packages\\numpyro\\primitives.py:105\u001b[0m, in \u001b[0;36mMessenger.__call__\u001b[1;34m(self, *args, **kwargs)\u001b[0m\n\u001b[0;32m    103\u001b[0m     \u001b[38;5;28;01mreturn\u001b[39;00m \u001b[38;5;28mself\u001b[39m\n\u001b[0;32m    104\u001b[0m \u001b[38;5;28;01mwith\u001b[39;00m \u001b[38;5;28mself\u001b[39m:\n\u001b[1;32m--> 105\u001b[0m     \u001b[38;5;28;01mreturn\u001b[39;00m \u001b[38;5;28mself\u001b[39m\u001b[38;5;241m.\u001b[39mfn(\u001b[38;5;241m*\u001b[39margs, \u001b[38;5;241m*\u001b[39m\u001b[38;5;241m*\u001b[39mkwargs)\n",
      "File \u001b[1;32m~\\workspace\\media-mix-modeling\\env\\lib\\site-packages\\numpyro\\primitives.py:105\u001b[0m, in \u001b[0;36mMessenger.__call__\u001b[1;34m(self, *args, **kwargs)\u001b[0m\n\u001b[0;32m    103\u001b[0m     \u001b[38;5;28;01mreturn\u001b[39;00m \u001b[38;5;28mself\u001b[39m\n\u001b[0;32m    104\u001b[0m \u001b[38;5;28;01mwith\u001b[39;00m \u001b[38;5;28mself\u001b[39m:\n\u001b[1;32m--> 105\u001b[0m     \u001b[38;5;28;01mreturn\u001b[39;00m \u001b[38;5;28mself\u001b[39m\u001b[38;5;241m.\u001b[39mfn(\u001b[38;5;241m*\u001b[39margs, \u001b[38;5;241m*\u001b[39m\u001b[38;5;241m*\u001b[39mkwargs)\n",
      "File \u001b[1;32m~\\workspace\\media-mix-modeling\\env\\lib\\site-packages\\lightweight_mmm\\models.py:350\u001b[0m, in \u001b[0;36mmedia_mix_model\u001b[1;34m(media_data, target_data, media_prior, degrees_seasonality, frequency, transform_function, custom_priors, transform_kwargs, weekday_seasonality, extra_features)\u001b[0m\n\u001b[0;32m    339\u001b[0m expo_trend \u001b[38;5;241m=\u001b[39m numpyro\u001b[38;5;241m.\u001b[39msample(\n\u001b[0;32m    340\u001b[0m     name\u001b[38;5;241m=\u001b[39m_EXPO_TREND,\n\u001b[0;32m    341\u001b[0m     fn\u001b[38;5;241m=\u001b[39mcustom_priors\u001b[38;5;241m.\u001b[39mget(\n\u001b[0;32m    342\u001b[0m         _EXPO_TREND, default_priors[_EXPO_TREND]))\n\u001b[0;32m    344\u001b[0m \u001b[38;5;28;01mwith\u001b[39;00m numpyro\u001b[38;5;241m.\u001b[39mplate(\n\u001b[0;32m    345\u001b[0m     name\u001b[38;5;241m=\u001b[39m\u001b[38;5;124m\"\u001b[39m\u001b[38;5;124mchannel_media_plate\u001b[39m\u001b[38;5;124m\"\u001b[39m,\n\u001b[0;32m    346\u001b[0m     size\u001b[38;5;241m=\u001b[39mn_channels,\n\u001b[0;32m    347\u001b[0m     dim\u001b[38;5;241m=\u001b[39m\u001b[38;5;241m-\u001b[39m\u001b[38;5;241m2\u001b[39m \u001b[38;5;28;01mif\u001b[39;00m media_data\u001b[38;5;241m.\u001b[39mndim \u001b[38;5;241m==\u001b[39m \u001b[38;5;241m3\u001b[39m \u001b[38;5;28;01melse\u001b[39;00m \u001b[38;5;241m-\u001b[39m\u001b[38;5;241m1\u001b[39m):\n\u001b[0;32m    348\u001b[0m   coef_media \u001b[38;5;241m=\u001b[39m numpyro\u001b[38;5;241m.\u001b[39msample(\n\u001b[0;32m    349\u001b[0m       name\u001b[38;5;241m=\u001b[39m\u001b[38;5;124m\"\u001b[39m\u001b[38;5;124mchannel_coef_media\u001b[39m\u001b[38;5;124m\"\u001b[39m \u001b[38;5;28;01mif\u001b[39;00m media_data\u001b[38;5;241m.\u001b[39mndim \u001b[38;5;241m==\u001b[39m \u001b[38;5;241m3\u001b[39m \u001b[38;5;28;01melse\u001b[39;00m \u001b[38;5;124m\"\u001b[39m\u001b[38;5;124mcoef_media\u001b[39m\u001b[38;5;124m\"\u001b[39m,\n\u001b[1;32m--> 350\u001b[0m       fn\u001b[38;5;241m=\u001b[39m\u001b[43mdist\u001b[49m\u001b[38;5;241;43m.\u001b[39;49m\u001b[43mHalfNormal\u001b[49m\u001b[43m(\u001b[49m\u001b[43mscale\u001b[49m\u001b[38;5;241;43m=\u001b[39;49m\u001b[43mmedia_prior\u001b[49m\u001b[43m)\u001b[49m)\n\u001b[0;32m    351\u001b[0m   \u001b[38;5;28;01mif\u001b[39;00m media_data\u001b[38;5;241m.\u001b[39mndim \u001b[38;5;241m==\u001b[39m \u001b[38;5;241m3\u001b[39m:\n\u001b[0;32m    352\u001b[0m     \u001b[38;5;28;01mwith\u001b[39;00m numpyro\u001b[38;5;241m.\u001b[39mplate(\n\u001b[0;32m    353\u001b[0m         name\u001b[38;5;241m=\u001b[39m\u001b[38;5;124m\"\u001b[39m\u001b[38;5;124mgeo_media_plate\u001b[39m\u001b[38;5;124m\"\u001b[39m,\n\u001b[0;32m    354\u001b[0m         size\u001b[38;5;241m=\u001b[39mn_geos,\n\u001b[0;32m    355\u001b[0m         dim\u001b[38;5;241m=\u001b[39m\u001b[38;5;241m-\u001b[39m\u001b[38;5;241m1\u001b[39m):\n\u001b[0;32m    356\u001b[0m       \u001b[38;5;66;03m# Corrects the mean to be the same as in the channel only case.\u001b[39;00m\n",
      "File \u001b[1;32m~\\workspace\\media-mix-modeling\\env\\lib\\site-packages\\numpyro\\distributions\\distribution.py:99\u001b[0m, in \u001b[0;36mDistributionMeta.__call__\u001b[1;34m(cls, *args, **kwargs)\u001b[0m\n\u001b[0;32m     97\u001b[0m     \u001b[38;5;28;01mif\u001b[39;00m result \u001b[38;5;129;01mis\u001b[39;00m \u001b[38;5;129;01mnot\u001b[39;00m \u001b[38;5;28;01mNone\u001b[39;00m:\n\u001b[0;32m     98\u001b[0m         \u001b[38;5;28;01mreturn\u001b[39;00m result\n\u001b[1;32m---> 99\u001b[0m \u001b[38;5;28;01mreturn\u001b[39;00m \u001b[38;5;28msuper\u001b[39m()\u001b[38;5;241m.\u001b[39m\u001b[38;5;21m__call__\u001b[39m(\u001b[38;5;241m*\u001b[39margs, \u001b[38;5;241m*\u001b[39m\u001b[38;5;241m*\u001b[39mkwargs)\n",
      "File \u001b[1;32m~\\workspace\\media-mix-modeling\\env\\lib\\site-packages\\numpyro\\distributions\\continuous.py:602\u001b[0m, in \u001b[0;36mHalfNormal.__init__\u001b[1;34m(self, scale, validate_args)\u001b[0m\n\u001b[0;32m    601\u001b[0m \u001b[38;5;28;01mdef\u001b[39;00m \u001b[38;5;21m__init__\u001b[39m(\u001b[38;5;28mself\u001b[39m, scale\u001b[38;5;241m=\u001b[39m\u001b[38;5;241m1.0\u001b[39m, \u001b[38;5;241m*\u001b[39m, validate_args\u001b[38;5;241m=\u001b[39m\u001b[38;5;28;01mNone\u001b[39;00m):\n\u001b[1;32m--> 602\u001b[0m     \u001b[38;5;28mself\u001b[39m\u001b[38;5;241m.\u001b[39m_normal \u001b[38;5;241m=\u001b[39m \u001b[43mNormal\u001b[49m\u001b[43m(\u001b[49m\u001b[38;5;241;43m0.0\u001b[39;49m\u001b[43m,\u001b[49m\u001b[43m \u001b[49m\u001b[43mscale\u001b[49m\u001b[43m)\u001b[49m\n\u001b[0;32m    603\u001b[0m     \u001b[38;5;28mself\u001b[39m\u001b[38;5;241m.\u001b[39mscale \u001b[38;5;241m=\u001b[39m scale\n\u001b[0;32m    604\u001b[0m     \u001b[38;5;28msuper\u001b[39m(HalfNormal, \u001b[38;5;28mself\u001b[39m)\u001b[38;5;241m.\u001b[39m\u001b[38;5;21m__init__\u001b[39m(\n\u001b[0;32m    605\u001b[0m         batch_shape\u001b[38;5;241m=\u001b[39mjnp\u001b[38;5;241m.\u001b[39mshape(scale), validate_args\u001b[38;5;241m=\u001b[39mvalidate_args\n\u001b[0;32m    606\u001b[0m     )\n",
      "File \u001b[1;32m~\\workspace\\media-mix-modeling\\env\\lib\\site-packages\\numpyro\\distributions\\distribution.py:99\u001b[0m, in \u001b[0;36mDistributionMeta.__call__\u001b[1;34m(cls, *args, **kwargs)\u001b[0m\n\u001b[0;32m     97\u001b[0m     \u001b[38;5;28;01mif\u001b[39;00m result \u001b[38;5;129;01mis\u001b[39;00m \u001b[38;5;129;01mnot\u001b[39;00m \u001b[38;5;28;01mNone\u001b[39;00m:\n\u001b[0;32m     98\u001b[0m         \u001b[38;5;28;01mreturn\u001b[39;00m result\n\u001b[1;32m---> 99\u001b[0m \u001b[38;5;28;01mreturn\u001b[39;00m \u001b[38;5;28msuper\u001b[39m()\u001b[38;5;241m.\u001b[39m\u001b[38;5;21m__call__\u001b[39m(\u001b[38;5;241m*\u001b[39margs, \u001b[38;5;241m*\u001b[39m\u001b[38;5;241m*\u001b[39mkwargs)\n",
      "File \u001b[1;32m~\\workspace\\media-mix-modeling\\env\\lib\\site-packages\\numpyro\\distributions\\continuous.py:2030\u001b[0m, in \u001b[0;36mNormal.__init__\u001b[1;34m(self, loc, scale, validate_args)\u001b[0m\n\u001b[0;32m   2028\u001b[0m \u001b[38;5;28mself\u001b[39m\u001b[38;5;241m.\u001b[39mloc, \u001b[38;5;28mself\u001b[39m\u001b[38;5;241m.\u001b[39mscale \u001b[38;5;241m=\u001b[39m promote_shapes(loc, scale)\n\u001b[0;32m   2029\u001b[0m batch_shape \u001b[38;5;241m=\u001b[39m lax\u001b[38;5;241m.\u001b[39mbroadcast_shapes(jnp\u001b[38;5;241m.\u001b[39mshape(loc), jnp\u001b[38;5;241m.\u001b[39mshape(scale))\n\u001b[1;32m-> 2030\u001b[0m \u001b[38;5;28;43msuper\u001b[39;49m\u001b[43m(\u001b[49m\u001b[43mNormal\u001b[49m\u001b[43m,\u001b[49m\u001b[43m \u001b[49m\u001b[38;5;28;43mself\u001b[39;49m\u001b[43m)\u001b[49m\u001b[38;5;241;43m.\u001b[39;49m\u001b[38;5;21;43m__init__\u001b[39;49m\u001b[43m(\u001b[49m\n\u001b[0;32m   2031\u001b[0m \u001b[43m    \u001b[49m\u001b[43mbatch_shape\u001b[49m\u001b[38;5;241;43m=\u001b[39;49m\u001b[43mbatch_shape\u001b[49m\u001b[43m,\u001b[49m\u001b[43m \u001b[49m\u001b[43mvalidate_args\u001b[49m\u001b[38;5;241;43m=\u001b[39;49m\u001b[43mvalidate_args\u001b[49m\n\u001b[0;32m   2032\u001b[0m \u001b[43m\u001b[49m\u001b[43m)\u001b[49m\n",
      "File \u001b[1;32m~\\workspace\\media-mix-modeling\\env\\lib\\site-packages\\numpyro\\distributions\\distribution.py:235\u001b[0m, in \u001b[0;36mDistribution.__init__\u001b[1;34m(self, batch_shape, event_shape, validate_args)\u001b[0m\n\u001b[0;32m    233\u001b[0m         \u001b[38;5;28;01mif\u001b[39;00m not_jax_tracer(is_valid):\n\u001b[0;32m    234\u001b[0m             \u001b[38;5;28;01mif\u001b[39;00m \u001b[38;5;129;01mnot\u001b[39;00m np\u001b[38;5;241m.\u001b[39mall(is_valid):\n\u001b[1;32m--> 235\u001b[0m                 \u001b[38;5;28;01mraise\u001b[39;00m \u001b[38;5;167;01mValueError\u001b[39;00m(\n\u001b[0;32m    236\u001b[0m                     \u001b[38;5;124m\"\u001b[39m\u001b[38;5;132;01m{}\u001b[39;00m\u001b[38;5;124m distribution got invalid \u001b[39m\u001b[38;5;132;01m{}\u001b[39;00m\u001b[38;5;124m parameter.\u001b[39m\u001b[38;5;124m\"\u001b[39m\u001b[38;5;241m.\u001b[39mformat(\n\u001b[0;32m    237\u001b[0m                         \u001b[38;5;28mself\u001b[39m\u001b[38;5;241m.\u001b[39m\u001b[38;5;18m__class__\u001b[39m\u001b[38;5;241m.\u001b[39m\u001b[38;5;18m__name__\u001b[39m, param\n\u001b[0;32m    238\u001b[0m                     )\n\u001b[0;32m    239\u001b[0m                 )\n\u001b[0;32m    240\u001b[0m \u001b[38;5;28msuper\u001b[39m(Distribution, \u001b[38;5;28mself\u001b[39m)\u001b[38;5;241m.\u001b[39m\u001b[38;5;21m__init__\u001b[39m()\n",
      "\u001b[1;31mValueError\u001b[0m: Normal distribution got invalid scale parameter."
     ]
    }
   ],
   "source": [
    "mmm_adstock = lightweight_mmm.LightweightMMM(model_name =\"adstock\")\n",
    "mmm_adstock.fit(media=media_data_train, \n",
    "                media_prior=costs, \n",
    "                target=target_train, \n",
    "                extra_features=extra_features_train, \n",
    "                media_names=['Paid_Views', 'Google_Impressions', 'Facebook_Impressions', 'Affiliate_Impressions'],\n",
    "                seed=seed)"
   ]
  },
  {
   "cell_type": "code",
   "execution_count": 30,
   "id": "93d258e8-923d-407d-8357-dde8a8427685",
   "metadata": {},
   "outputs": [
    {
     "data": {
      "text/plain": [
       "Array([-0.2815786,  9.729566 , -5.0205817, -0.4274046], dtype=float32)"
      ]
     },
     "execution_count": 30,
     "metadata": {},
     "output_type": "execute_result"
    }
   ],
   "source": [
    "costs"
   ]
  },
  {
   "cell_type": "code",
   "execution_count": null,
   "id": "900c5b46-cecb-4ff1-867f-c9205af4a12f",
   "metadata": {},
   "outputs": [],
   "source": []
  }
 ],
 "metadata": {
  "kernelspec": {
   "display_name": "media-mix-modeling",
   "language": "python",
   "name": "media-mix-modeling"
  },
  "language_info": {
   "codemirror_mode": {
    "name": "ipython",
    "version": 3
   },
   "file_extension": ".py",
   "mimetype": "text/x-python",
   "name": "python",
   "nbconvert_exporter": "python",
   "pygments_lexer": "ipython3",
   "version": "3.10.4"
  }
 },
 "nbformat": 4,
 "nbformat_minor": 5
}
