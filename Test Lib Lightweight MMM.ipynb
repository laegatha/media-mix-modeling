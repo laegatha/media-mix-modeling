{
 "cells": [
  {
   "cell_type": "code",
   "execution_count": 1,
   "id": "6290b04a-9d1d-456e-87db-71a34933cd1c",
   "metadata": {},
   "outputs": [],
   "source": [
    "import jax.numpy as jnp"
   ]
  },
  {
   "cell_type": "code",
   "execution_count": 2,
   "id": "98bc2549-e386-4a62-854e-609b017e55d9",
   "metadata": {},
   "outputs": [],
   "source": [
    "import numpyro"
   ]
  },
  {
   "cell_type": "code",
   "execution_count": 3,
   "id": "2ca4f469-ec19-44fc-be95-e01fd19f789b",
   "metadata": {},
   "outputs": [],
   "source": [
    "from lightweight_mmm import lightweight_mmm\n",
    "from lightweight_mmm import optimize_media\n",
    "from lightweight_mmm import plot\n",
    "from lightweight_mmm import preprocessing\n",
    "from lightweight_mmm import utils"
   ]
  },
  {
   "cell_type": "code",
   "execution_count": null,
   "id": "5d3215c0-b1fc-4ce4-aaf2-b95c885a6dcf",
   "metadata": {},
   "outputs": [],
   "source": []
  }
 ],
 "metadata": {
  "kernelspec": {
   "display_name": "media-mix-modeling",
   "language": "python",
   "name": "media-mix-modeling"
  },
  "language_info": {
   "codemirror_mode": {
    "name": "ipython",
    "version": 3
   },
   "file_extension": ".py",
   "mimetype": "text/x-python",
   "name": "python",
   "nbconvert_exporter": "python",
   "pygments_lexer": "ipython3",
   "version": "3.10.4"
  }
 },
 "nbformat": 4,
 "nbformat_minor": 5
}
